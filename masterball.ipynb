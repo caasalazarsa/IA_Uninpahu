{
 "cells": [
  {
   "cell_type": "markdown",
   "metadata": {},
   "source": [
    "# Intelligent Systems Assignment 1\n",
    "\n",
    "## Masterball solver\n",
    "\n",
    "**Names and IDs:**\n",
    "\n"
   ]
  },
  {
   "cell_type": "markdown",
   "metadata": {},
   "source": [
    "### 1. Create a class to model the Masterball problem"
   ]
  },
  {
   "cell_type": "markdown",
   "metadata": {},
   "source": [
    "A Masterball must be represented as an array of arrays with integer values representing the color of the tile in each position:\n",
    "\n",
    "A solved masterball must look like this:\n",
    "\n",
    "```python\n",
    "[ [0, 1, 2, 3, 4, 5, 6, 7],\n",
    "  [0, 1, 2, 3, 4, 5, 6, 7],\n",
    "  [0, 1, 2, 3, 4, 5, 6, 7],\n",
    "  [0, 1, 2, 3, 4, 5, 6, 7]\n",
    "]\n",
    "```"
   ]
  },
  {
   "cell_type": "markdown",
   "metadata": {},
   "source": [
    "#### Variables modeling the actions"
   ]
  },
  {
   "cell_type": "code",
   "execution_count": 1,
   "metadata": {},
   "outputs": [],
   "source": [
    "'''\n",
    "This variables MUST not be changed.\n",
    "They represent the movements of the masterball.\n",
    "'''\n",
    "R_0 = \"Right 0\"\n",
    "R_1 = \"Right 1\"\n",
    "R_2 = \"Right 2\"\n",
    "R_3 = \"Right 3\"\n",
    "\n",
    "V_0 = \"Vertical 0\"\n",
    "V_1 = \"Vertical 1\"\n",
    "V_2 = \"Vertical 2\"\n",
    "V_3 = \"Vertical 3\"\n",
    "V_4 = \"Vertical 4\"\n",
    "V_5 = \"Vertical 5\"\n",
    "V_6 = \"Vertical 6\"\n",
    "V_7 = \"Vertical 7\"\n"
   ]
  },
  {
   "cell_type": "markdown",
   "metadata": {},
   "source": [
    "`R_i` moves the `i`th row to the right. For instance, `R_2` applied to the solved state will produce:\n",
    "\n",
    "```python\n",
    "[ [0, 1, 2, 3, 4, 5, 6, 7],\n",
    "  [0, 1, 2, 3, 4, 5, 6, 7],\n",
    "  [7, 0, 1, 2, 3, 4, 5, 6],\n",
    "  [0, 1, 2, 3, 4, 5, 6, 7]\n",
    "]\n",
    "```\n",
    "\n",
    "`V_i` performs a clockwise vertical move starting with the `i`th column\n",
    "\n",
    "`V_1` applied to the above state will produce:\n",
    "\n",
    "```python\n",
    "[ [0, 4, 3, 2, 1, 5, 6, 7],\n",
    "  [0, 3, 2, 1, 0, 5, 6, 7],\n",
    "  [7, 4, 3, 2, 1, 4, 5, 6],\n",
    "  [0, 4, 3, 2, 1, 5, 6, 7]\n",
    "]\n",
    "```"
   ]
  },
  {
   "cell_type": "markdown",
   "metadata": {},
   "source": [
    "#### The Masterball problem class"
   ]
  },
  {
   "cell_type": "code",
   "execution_count": 2,
   "metadata": {},
   "outputs": [],
   "source": [
    "import numpy as np\n",
    "\n",
    "def rotate(l, n):\n",
    "    return l[-n:] + l[:-n]\n",
    "\n",
    "alist=[ [0, 1, 2, 3, 4, 5, 6, 7],\n",
    "  [0, 1, 2, 3, 4, 5, 6, 7],\n",
    "  [0, 1, 2, 3, 4, 5, 6, 7],\n",
    "  [0, 1, 2, 3, 4, 5, 6, 7]\n",
    "]\n",
    "\n",
    "\n",
    "def move(state,action):\n",
    "    \n",
    "    alist=list(map(list,state))\n",
    "\n",
    "    if action==\"Right 0\":\n",
    "        alist[0]=rotate(alist[0],1)\n",
    "    \n",
    "    elif action==\"Right 1\":\n",
    "        alist[1]=rotate(alist[1],1)\n",
    "    \n",
    "    elif action==\"Right 2\":\n",
    "        alist[2]=rotate(alist[2],1)\n",
    "    \n",
    "    elif action==\"Right 3\":\n",
    "        alist[3]=rotate(alist[3],1)\n",
    "\n",
    "    elif action==\"Vertical 0\":\n",
    "        nplist=np.array(alist)\n",
    "        section=nplist[:,0:4]\n",
    "        section=np.rot90(section,2)\n",
    "        nplist[:,0:4]=section\n",
    "        alist= nplist.tolist()\n",
    "    \n",
    "    elif action==\"Vertical 1\":\n",
    "        nplist=np.array(alist)\n",
    "        section=nplist[:,1:5]\n",
    "        section=np.rot90(section,2)\n",
    "        nplist[:,1:5]=section\n",
    "        alist= nplist.tolist()\n",
    "    \n",
    "    elif action==\"Vertical 2\":\n",
    "        nplist=np.array(alist)\n",
    "        section=nplist[:,2:6]\n",
    "        section=np.rot90(section,2)\n",
    "        nplist[:,2:6]=section\n",
    "        alist= nplist.tolist()\n",
    "\n",
    "    elif action==\"Vertical 3\":\n",
    "        nplist=np.array(alist)\n",
    "        section=nplist[:,3:7]\n",
    "        section=np.rot90(section,2)\n",
    "        nplist[:,3:7]=section\n",
    "        alist= nplist.tolist()\n",
    "\n",
    "    elif action==\"Vertical 4\":\n",
    "        nplist=np.array(alist)\n",
    "        section=nplist[:,4:8]\n",
    "        section=np.rot90(section,2)\n",
    "        nplist[:,4:8]=section\n",
    "        alist= nplist.tolist()\n",
    "    \n",
    "    elif action==\"Vertical 5\":\n",
    "        nplist=np.array(alist)\n",
    "        section=np.c_[nplist[:,5:8],nplist[:,0]]\n",
    "        section=np.rot90(section,2)\n",
    "        nplist[:,5:8]=section[:,0:3]\n",
    "        nplist[:,0]=section[:,3]\n",
    "        alist= nplist.tolist()\n",
    "    \n",
    "    elif action==\"Vertical 6\":\n",
    "        nplist=np.array(alist)\n",
    "        section=np.c_[nplist[:,6:8],nplist[:,0:2]]\n",
    "        section=np.rot90(section,2)\n",
    "        nplist[:,6:8]=section[:,0:2]\n",
    "        nplist[:,0:2]=section[:,2:4]\n",
    "        alist= nplist.tolist()\n",
    "\n",
    "    elif action==\"Vertical 7\":\n",
    "        nplist=np.array(alist)\n",
    "        section=np.c_[nplist[:,7],nplist[:,0:3]]\n",
    "        section=np.rot90(section,2)\n",
    "        nplist[:,7]=section[:,0]\n",
    "        nplist[:,0:3]=section[:,1:4]\n",
    "        alist= nplist.tolist()\n",
    "        \n",
    "    return tuple(map(tuple,alist))\n",
    "\n",
    "\n",
    "\n",
    "actions=[R_0,R_1,R_2,R_3,V_0,V_1,V_2,V_3,V_4,V_5,V_6,V_7]\n",
    "\n",
    "\n"
   ]
  },
  {
   "cell_type": "code",
   "execution_count": 3,
   "metadata": {},
   "outputs": [],
   "source": [
    "import search\n",
    "import util\n",
    "\n",
    "class MasterballProblem(search.SearchProblem):    \n",
    "    \n",
    "    def __init__(self, startState):\n",
    "        '''\n",
    "        Store the initial state in the problem representation and any useful\n",
    "        data.\n",
    "        Here are some examples of initial states:\n",
    "        [[0, 1, 4, 5, 6, 2, 3, 7], [0, 1, 3, 4, 5, 6, 3, 7], [1, 2, 4, 5, 6, 2, 7, 0], [0, 1, 4, 5, 6, 2, 3, 7]]\n",
    "        [[0, 7, 4, 5, 1, 6, 2, 3], [0, 7, 4, 5, 0, 5, 2, 3], [7, 6, 3, 4, 1, 6, 1, 2], [0, 7, 4, 5, 1, 6, 2, 3]]\n",
    "        [[0, 1, 6, 4, 5, 2, 3, 7], [0, 2, 6, 5, 1, 3, 4, 7], [0, 2, 6, 5, 1, 3, 4, 7], [0, 5, 6, 4, 1, 2, 3, 7]]\n",
    "        '''\n",
    "        self.expanded = 0\n",
    "        self.start=tuple(map(tuple,startState))\n",
    "        ### your code here ###\n",
    "        pass\n",
    "    \n",
    "    \n",
    "    def isGoalState(self, state):\n",
    "        \n",
    "        return state == tuple(map(tuple,[ [0, 1, 2, 3, 4, 5, 6, 7],\n",
    "  [0, 1, 2, 3, 4, 5, 6, 7],\n",
    "  [0, 1, 2, 3, 4, 5, 6, 7],\n",
    "  [0, 1, 2, 3, 4, 5, 6, 7]]))\n",
    "        \n",
    "        pass\n",
    "    \n",
    "    def getStartState(self):\n",
    "        '''\n",
    "        Implement a method that returns the start state according to the SearchProblem\n",
    "        contract.\n",
    "        '''\n",
    "        return self.start\n",
    "        pass\n",
    "\n",
    "    def getSuccessors(self, state):\n",
    "\n",
    "        self.expanded += 1\n",
    "        actions=[R_0,R_1,R_2,R_3,V_0,V_1,V_2,V_3,V_4,V_5,V_6,V_7]\n",
    "        successors=[] \n",
    "        for action in actions:\n",
    "            result=move(state,action)\n",
    "\n",
    "            successors.append((result,action,1))\n",
    "            \n",
    "        \n",
    "        return successors\n",
    "        pass"
   ]
  },
  {
   "cell_type": "markdown",
   "metadata": {},
   "source": [
    "### 2. Implement iterative deepening search\n",
    "\n",
    "Follow the example code provided in class and implement iterative deepening search (IDS)."
   ]
  },
  {
   "cell_type": "code",
   "execution_count": 4,
   "metadata": {},
   "outputs": [],
   "source": [
    "\n",
    "\n",
    "def general_search(problem, frontier):\n",
    "    visited = {}\n",
    "    state = problem.getStartState()\n",
    "    frontier.push((state, [], 0))\n",
    "    while not frontier.isEmpty():\n",
    "        u, actions, path_cost = frontier.pop()\n",
    "        if problem.isGoalState(u):\n",
    "            return  actions\n",
    "        if not u in visited:\n",
    "            for v, action, cost in problem.getSuccessors(u):\n",
    "                frontier.push((v, actions + [action], path_cost + cost))\n",
    "        visited[u] = 'black'\n",
    "    return []\n",
    "\n",
    "\n",
    "def iterativeDeepeningSearch(problem):\n",
    "    def g_cost(item):\n",
    "        return item[2]\n",
    "    return general_search(problem, util.PriorityQueueWithFunction(g_cost)) \n",
    "\n",
    "def nullHeuristic(state):\n",
    "    return 0\n",
    "\n",
    "def aStarSearch(problem, heuristic=nullHeuristic):\n",
    "    def f_cost(item):\n",
    "        return item[2] + heuristic(item[1]) \n",
    "    return general_search(problem, util.PriorityQueueWithFunction(f_cost)) \n",
    "\n"
   ]
  },
  {
   "cell_type": "markdown",
   "metadata": {},
   "source": [
    "Evaluate it to see what is the maximum depth that it could explore in a reasonable time. Report the results. "
   ]
  },
  {
   "cell_type": "markdown",
   "metadata": {},
   "source": [
    "### 3. Implement different heuristics for the problem"
   ]
  },
  {
   "cell_type": "markdown",
   "metadata": {
    "collapsed": true
   },
   "source": [
    "Implement at least two admissible and consistent heuristics. Compare A* using the heuristics against IDS calculating the number of expanded nodes and the effective branching factor, in the same way as it is done in figure 3.29 of [Russell10]."
   ]
  },
  {
   "cell_type": "code",
   "execution_count": 5,
   "metadata": {},
   "outputs": [],
   "source": [
    "def myHeuristic(state):\n",
    "#    print state\n",
    "#    print len(state)\n",
    "    if len(state)!=0 and state[len(state)-1].find(\"Vertical\")==-1:\n",
    "        return 6\n",
    "    else:\n",
    "        return 4"
   ]
  },
  {
   "cell_type": "markdown",
   "metadata": {},
   "source": [
    "Now apply the develop functions to solve the Masterball problem."
   ]
  },
  {
   "cell_type": "code",
   "execution_count": 7,
   "metadata": {},
   "outputs": [
    {
     "name": "stdout",
     "output_type": "stream",
     "text": [
      "['Vertical 2', 'Right 2', 'Vertical 3']\n",
      "[[0, 1, 4, 5, 6, 2, 3, 7], [0, 1, 3, 4, 5, 6, 3, 7], [1, 2, 4, 5, 6, 2, 7, 0], [0, 1, 4, 5, 6, 2, 3, 7]]\n",
      "[[0, 1, 2, 3, 4, 5, 6, 7], [0, 1, 2, 3, 4, 5, 6, 7], [0, 1, 2, 3, 4, 5, 6, 7], [0, 1, 2, 3, 4, 5, 6, 7]]\n",
      "Expanded nodes: 655\n",
      "['Vertical 2', 'Right 2', 'Vertical 3']\n",
      "[[0, 1, 4, 5, 6, 2, 3, 7], [0, 1, 3, 4, 5, 6, 3, 7], [1, 2, 4, 5, 6, 2, 7, 0], [0, 1, 4, 5, 6, 2, 3, 7]]\n",
      "[[0, 1, 2, 3, 4, 5, 6, 7], [0, 1, 2, 3, 4, 5, 6, 7], [0, 1, 2, 3, 4, 5, 6, 7], [0, 1, 2, 3, 4, 5, 6, 7]]\n",
      "Expanded nodes: 831\n"
     ]
    }
   ],
   "source": [
    "startstate=[[0, 1, 4, 5, 6, 2, 3, 7], [0, 1, 3, 4, 5, 6, 3, 7], [1, 2, 4, 5, 6, 2, 7, 0], [0, 1, 4, 5, 6, 2, 3, 7]]\n",
    "#startstate=[[0, 4, 3, 2, 1, 5, 6, 7],[0, 3, 2, 1, 0, 5, 6, 7],[7, 4, 3, 2, 1, 4, 5, 6],[0, 4, 3, 2, 1, 5, 6, 7]]\n",
    "#startstate=[[0, 4, 3, 2, 1, 5, 6, 7],  [0, 3, 2, 1, 0, 5, 6, 7],  [7, 4, 3, 2, 1, 4, 5, 6], [0, 4, 3, 2, 1, 5, 6, 7]]\n",
    "\n",
    "\n",
    "\n",
    "problem1 = MasterballProblem(startstate)\n",
    "solutions1=aStarSearch(problem1, myHeuristic)\n",
    "print (solutions1)\n",
    "solstate=[]\n",
    "solstate.append(list(map(list,startstate)))\n",
    "for i in range(1,len(solutions1)+1):\n",
    "    result=move(solstate[i-1],solutions1[i-1])\n",
    "    reslist=list(map(list,result))\n",
    "    solstate.append(reslist)\n",
    "    \n",
    "print (solstate[0])\n",
    "print (solstate[len(solutions1)])\n",
    "print (\"Expanded nodes:\", problem1.expanded)\n",
    "\n",
    "\n",
    "problem2 = MasterballProblem(startstate)\n",
    "\n",
    "#print problem.getSuccessors([[0, 1, 2, 3, 4, 5, 6, 7],\n",
    "#  [0, 1, 2, 3, 4, 5, 6, 7],\n",
    "# [0, 1, 2, 3, 4, 5, 6, 7],\n",
    "#  [0, 1, 2, 3, 4, 5, 6, 7]])\n",
    "solutions2=iterativeDeepeningSearch(problem2)\n",
    "\n",
    "\n",
    "print (solutions2)\n",
    "solstate=[]\n",
    "solstate.append(list(map(list,startstate)))\n",
    "for i in range(1,len(solutions2)+1):\n",
    "    result=move(solstate[i-1],solutions2[i-1])\n",
    "    reslist=list(map(list,result))\n",
    "    solstate.append(reslist)\n",
    "print (solstate[0])\n",
    "print (solstate[len(solutions2)])\n",
    "print (\"Expanded nodes:\", problem2.expanded)\n",
    "\n",
    "\n",
    "\n"
   ]
  },
  {
   "cell_type": "code",
   "execution_count": null,
   "metadata": {},
   "outputs": [],
   "source": []
  },
  {
   "cell_type": "code",
   "execution_count": null,
   "metadata": {},
   "outputs": [],
   "source": []
  },
  {
   "cell_type": "code",
   "execution_count": null,
   "metadata": {},
   "outputs": [],
   "source": []
  }
 ],
 "metadata": {
  "kernelspec": {
   "display_name": "Python 3",
   "language": "python",
   "name": "python3"
  },
  "language_info": {
   "codemirror_mode": {
    "name": "ipython",
    "version": 3
   },
   "file_extension": ".py",
   "mimetype": "text/x-python",
   "name": "python",
   "nbconvert_exporter": "python",
   "pygments_lexer": "ipython3",
   "version": "3.7.6"
  },
  "latex_envs": {
   "LaTeX_envs_menu_present": true,
   "autoclose": false,
   "autocomplete": true,
   "bibliofile": "biblio.bib",
   "cite_by": "apalike",
   "current_citInitial": 1,
   "eqLabelWithNumbers": true,
   "eqNumInitial": 1,
   "hotkeys": {
    "equation": "Ctrl-E",
    "itemize": "Ctrl-I"
   },
   "labels_anchors": false,
   "latex_user_defs": false,
   "report_style_numbering": false,
   "user_envs_cfg": false
  }
 },
 "nbformat": 4,
 "nbformat_minor": 1
}

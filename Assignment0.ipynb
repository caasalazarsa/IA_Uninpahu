{
 "cells": [
  {
   "cell_type": "markdown",
   "metadata": {},
   "source": [
    "# Assignment 0"
   ]
  },
  {
   "cell_type": "markdown",
   "metadata": {},
   "source": [
    "You have two jars, where you can put water, with capacities `cap_1` and `cap_2` respectively. Your goal is to fill the jars with a given amount of water. The actions that you can perform are the following:\n",
    "\n",
    "1. **Fill 1**: fill jar 1 to its maximum capacity with water.\n",
    "2. **Fill 2**: fill jar 2 to its maximum capacity with water.\n",
    "3. **Empty 1**: totally empty jar 1.\n",
    "4. **Empty 2**: totally empty jar 2.\n",
    "5. **1 -> 2**: pour the content of jar 1 into jar 2 until jar 1 is empty or jar 2 is full.\n",
    "6. **2 -> 1**: pour the content of jar 2 into jar 1 until jar 2 is empty or jar 1 is full.\n"
   ]
  },
  {
   "cell_type": "markdown",
   "metadata": {},
   "source": [
    "## Variables modeling the actions"
   ]
  },
  {
   "cell_type": "code",
   "execution_count": 1,
   "metadata": {},
   "outputs": [],
   "source": [
    "F1=\"Fill 1\"\n",
    "F2=\"Fill 2\"\n",
    "E1=\"Empty 1\"\n",
    "E2=\"Empty 2\"\n",
    "P12=\"Pour 1 in 2\"\n",
    "P21=\"Pour 2 in 1\""
   ]
  },
  {
   "cell_type": "code",
   "execution_count": null,
   "metadata": {},
   "outputs": [],
   "source": []
  },
  {
   "cell_type": "markdown",
   "metadata": {},
   "source": [
    "### 1.  Model the jars problem as a search problem"
   ]
  },
  {
   "cell_type": "code",
   "execution_count": 2,
   "metadata": {},
   "outputs": [],
   "source": [
    "from __future__ import absolute_import\n",
    "import search\n",
    "import util\n",
    "\n",
    "\n",
    "class jars_problem(search.SearchProblem):\n",
    "    def __init__(self, cap_1, cap_2, goal):\n",
    "        '''\n",
    "        cap_1: jar 1 capacity\n",
    "        cap_2: jar 2 capacity\n",
    "        goal:  goal state\n",
    "        '''\n",
    "        self.expanded = 0\n",
    "        self.cap_1 = cap_1\n",
    "        self.cap_2 = cap_2\n",
    "        self.start = (0, 0)\n",
    "        self.goal = goal\n",
    "        \n",
    "    def getStartState(self):\n",
    "        return self.start\n",
    "\n",
    "    def isGoalState(self, state):\n",
    "        return self.goal == state\n",
    "    \n",
    "    def move(self,state,action):\n",
    "        statel=list(state)\n",
    "        cost=0\n",
    "        if action == F1:\n",
    "            cost=self.cap_1-statel[0]\n",
    "            statel[0]=self.cap_1\n",
    "        elif action == F2:\n",
    "            cost=self.cap_2-statel[1]\n",
    "            statel[1]=self.cap_2\n",
    "        elif action == E1:\n",
    "            statel[0]=0\n",
    "            cost=statel[0]\n",
    "        elif action == E2:\n",
    "            statel[1]=0\n",
    "            cost=statel[1]\n",
    "        elif action == P12:\n",
    "            while statel[1]<self.cap_2 and statel[0]>0:\n",
    "                statel[1]= statel[1]+1\n",
    "                statel[0]= statel[0]-1\n",
    "                cost=cost+1\n",
    "        elif action == P21:\n",
    "            while statel[0]<self.cap_1 and statel[1]>0:\n",
    "                statel[0]= statel[0]+1\n",
    "                statel[1]= statel[1]-1\n",
    "                cost=cost+1\n",
    "            \n",
    "        return [tuple(statel),cost]\n",
    "\n",
    "    def getSuccessors(self, state):\n",
    "        self.expanded += 1\n",
    "        actions=[F1,F2,E1,E2,P12,P21]\n",
    "        successors=[]\n",
    "        \n",
    "        for action in actions:\n",
    "            result=self.move(state,action)\n",
    "            successors.append((result[0],action,result[1]))\n",
    "    \n",
    "        '''\n",
    "        Receives a state and calculates the list of successors. Each successor \n",
    "        correspond a triple of the form (state, action, cost). \n",
    "        For instance for state = (0, 0) the list of successors could be:\n",
    "        [((5, 0), \"Fill 1\", 5), ((0, 4), \"Fill 2\", 4)]\n",
    "        '''\n",
    "        # Your code here\n",
    "        return successors\n",
    "        pass"
   ]
  },
  {
   "cell_type": "code",
   "execution_count": 3,
   "metadata": {},
   "outputs": [],
   "source": [
    "def general_search(problem, frontier):\n",
    "    visited = {}\n",
    "    state = problem.getStartState()\n",
    "    frontier.push((state, [], 0))\n",
    "    while not frontier.isEmpty():\n",
    "        u, actions, path_cost = frontier.pop()\n",
    "        if problem.isGoalState(u):\n",
    "            return  actions\n",
    "        if not u in visited:\n",
    "            for v, action, cost in problem.getSuccessors(u):\n",
    "                frontier.push((v, actions + [action], path_cost + cost))\n",
    "        visited[u] = 'black'\n",
    "    return []"
   ]
  },
  {
   "cell_type": "code",
   "execution_count": 4,
   "metadata": {},
   "outputs": [],
   "source": [
    "def dfs(problem):\n",
    "   return general_search(problem, util.Stack())"
   ]
  },
  {
   "cell_type": "markdown",
   "metadata": {},
   "source": [
    "### 2. Given two jars of capacity 5 and 4 liters respectively measure 2 liters in jar 2."
   ]
  },
  {
   "cell_type": "code",
   "execution_count": 6,
   "metadata": {},
   "outputs": [
    {
     "name": "stdout",
     "output_type": "stream",
     "text": [
      "['Fill 2', 'Pour 2 in 1', 'Empty 2', 'Pour 1 in 2', 'Fill 1', 'Pour 1 in 2', 'Empty 2', 'Pour 1 in 2', 'Fill 1', 'Pour 1 in 2', 'Empty 2', 'Pour 1 in 2', 'Fill 1', 'Pour 1 in 2', 'Empty 2', 'Pour 1 in 2', 'Fill 1', 'Pour 1 in 2']\n",
      "[(0, 0), (0, 6), (5, 1), (5, 0), (0, 5), (5, 5), (4, 6), (4, 0), (0, 4), (5, 4), (3, 6), (3, 0), (0, 3), (5, 3), (2, 6), (2, 0), (0, 2), (5, 2), (1, 6)]\n"
     ]
    }
   ],
   "source": [
    "problem = jars_problem(5, 6, (1,6))\n",
    "actions = dfs(problem)\n",
    "print (actions)\n",
    "solstate=[(0,0)]\n",
    "for i in range(0,len(actions)):\n",
    "    solstate.append(problem.move(solstate[i],actions[i])[0])\n",
    "\n",
    "print (solstate)"
   ]
  },
  {
   "cell_type": "code",
   "execution_count": null,
   "metadata": {},
   "outputs": [],
   "source": []
  },
  {
   "cell_type": "code",
   "execution_count": null,
   "metadata": {},
   "outputs": [],
   "source": []
  }
 ],
 "metadata": {
  "kernelspec": {
   "display_name": "Python 3",
   "language": "python",
   "name": "python3"
  },
  "language_info": {
   "codemirror_mode": {
    "name": "ipython",
    "version": 3
   },
   "file_extension": ".py",
   "mimetype": "text/x-python",
   "name": "python",
   "nbconvert_exporter": "python",
   "pygments_lexer": "ipython3",
   "version": "3.7.6"
  },
  "latex_envs": {
   "LaTeX_envs_menu_present": true,
   "autoclose": false,
   "autocomplete": true,
   "bibliofile": "biblio.bib",
   "cite_by": "apalike",
   "current_citInitial": 1,
   "eqLabelWithNumbers": true,
   "eqNumInitial": 1,
   "hotkeys": {
    "equation": "Ctrl-E",
    "itemize": "Ctrl-I"
   },
   "labels_anchors": false,
   "latex_user_defs": false,
   "report_style_numbering": false,
   "user_envs_cfg": false
  }
 },
 "nbformat": 4,
 "nbformat_minor": 1
}
